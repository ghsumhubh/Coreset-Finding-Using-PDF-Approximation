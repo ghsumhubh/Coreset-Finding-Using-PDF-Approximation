{
 "cells": [
  {
   "cell_type": "code",
   "execution_count": 1,
   "metadata": {},
   "outputs": [],
   "source": [
    "from xgb_results import xgb_results_regression\n",
    "from split import split_data\n",
    "from pprint import pprint\n",
    "from utils import *\n",
    "from get_data import get_uci_dataset\n",
    "import pandas as pd\n",
    "import numpy as np\n",
    "import matplotlib.pyplot as plt"
   ]
  },
  {
   "cell_type": "code",
   "execution_count": null,
   "metadata": {},
   "outputs": [
    {
     "name": "stdout",
     "output_type": "stream",
     "text": [
      "{'categorical features': ['Sex'],\n",
      " 'dataset name': 'Abalone',\n",
      " 'number of features': 10,\n",
      " 'number of test examples': 4177,\n",
      " 'number of training examples': 4177,\n",
      " 'variables information':              name     role         type demographic  \\\n",
      "0             Sex  Feature  Categorical        None   \n",
      "1          Length  Feature   Continuous        None   \n",
      "2        Diameter  Feature   Continuous        None   \n",
      "3          Height  Feature   Continuous        None   \n",
      "4    Whole_weight  Feature   Continuous        None   \n",
      "5  Shucked_weight  Feature   Continuous        None   \n",
      "6  Viscera_weight  Feature   Continuous        None   \n",
      "7    Shell_weight  Feature   Continuous        None   \n",
      "8           Rings   Target      Integer        None   \n",
      "\n",
      "                   description  units missing_values  \n",
      "0         M, F, and I (infant)   None             no  \n",
      "1    Longest shell measurement     mm             no  \n",
      "2      perpendicular to length     mm             no  \n",
      "3           with meat in shell     mm             no  \n",
      "4                whole abalone  grams             no  \n",
      "5               weight of meat  grams             no  \n",
      "6  gut weight (after bleeding)  grams             no  \n",
      "7            after being dried  grams             no  \n",
      "8  +1.5 gives the age in years   None             no  }\n"
     ]
    }
   ],
   "source": [
    "x,y, description = get_uci_dataset(0)\n",
    "pprint(description)"
   ]
  },
  {
   "cell_type": "code",
   "execution_count": null,
   "metadata": {},
   "outputs": [
    {
     "name": "stdout",
     "output_type": "stream",
     "text": [
      "Number of features:  10\n",
      "Number of training examples:  3341\n",
      "Number of test examples:  836\n"
     ]
    }
   ],
   "source": [
    "x_train, x_test, y_train, y_test = split_data(x, y)\n",
    "x_train, x_test, y_train, y_test = convert_to_numpy_dataset(x_train, x_test, y_train, y_test)"
   ]
  },
  {
   "cell_type": "code",
   "execution_count": null,
   "metadata": {},
   "outputs": [
    {
     "name": "stdout",
     "output_type": "stream",
     "text": [
      "{'Testing Metrics': {'MSE': 5.854122615330176,\n",
      "                     'Pearson': 0.6896658315281465,\n",
      "                     'R^2 Score': 0.45921394682474703,\n",
      "                     'Spearman': 0.7357141578964534},\n",
      " 'Training Metrics': {'MSE': 0.5618531331829442,\n",
      "                      'Pearson': 0.9744020587898325,\n",
      "                      'R^2 Score': 0.9453661443787925,\n",
      "                      'Spearman': 0.9613619606594258}}\n"
     ]
    }
   ],
   "source": [
    "results = xgb_results_regression(x_train, x_test, y_train, y_test)\n",
    "pprint(results)\n",
    "\n",
    "metrics = ['MSE', 'R^2 Score', 'Pearson', 'Spearman']"
   ]
  },
  {
   "cell_type": "code",
   "execution_count": null,
   "metadata": {},
   "outputs": [
    {
     "name": "stdout",
     "output_type": "stream",
     "text": [
      "Sample Rate: 0.01\n",
      "Sample Rate: 0.02\n",
      "Sample Rate: 0.03\n",
      "Sample Rate: 0.04\n",
      "Sample Rate: 0.05\n",
      "Sample Rate: 0.060000000000000005\n",
      "Sample Rate: 0.06999999999999999\n",
      "Sample Rate: 0.08\n",
      "Sample Rate: 0.09\n",
      "Sample Rate: 0.09999999999999999\n",
      "Sample Rate: 0.11\n",
      "Sample Rate: 0.12\n",
      "Sample Rate: 0.13\n",
      "Sample Rate: 0.14\n",
      "Sample Rate: 0.15000000000000002\n",
      "Sample Rate: 0.16\n",
      "Sample Rate: 0.17\n",
      "Sample Rate: 0.18000000000000002\n",
      "Sample Rate: 0.19\n",
      "Sample Rate: 0.2\n",
      "Sample Rate: 0.21000000000000002\n",
      "Sample Rate: 0.22\n",
      "Sample Rate: 0.23\n",
      "Sample Rate: 0.24000000000000002\n",
      "Sample Rate: 0.25\n",
      "Sample Rate: 0.26\n",
      "Sample Rate: 0.27\n",
      "Sample Rate: 0.28\n",
      "Sample Rate: 0.29000000000000004\n",
      "Sample Rate: 0.3\n",
      "Sample Rate: 0.31\n",
      "Sample Rate: 0.32\n",
      "Sample Rate: 0.33\n",
      "Sample Rate: 0.34\n",
      "Sample Rate: 0.35000000000000003\n",
      "Sample Rate: 0.36000000000000004\n",
      "Sample Rate: 0.37\n",
      "Sample Rate: 0.38\n",
      "Sample Rate: 0.39\n",
      "Sample Rate: 0.4\n",
      "Sample Rate: 0.41000000000000003\n",
      "Sample Rate: 0.42000000000000004\n",
      "Sample Rate: 0.43\n",
      "Sample Rate: 0.44\n",
      "Sample Rate: 0.45\n",
      "Sample Rate: 0.46\n",
      "Sample Rate: 0.47000000000000003\n",
      "Sample Rate: 0.48000000000000004\n",
      "Sample Rate: 0.49\n",
      "Sample Rate: 0.5\n",
      "Sample Rate: 0.51\n",
      "Sample Rate: 0.52\n",
      "Sample Rate: 0.53\n",
      "Sample Rate: 0.54\n",
      "Sample Rate: 0.55\n",
      "Sample Rate: 0.56\n",
      "Sample Rate: 0.5700000000000001\n",
      "Sample Rate: 0.5800000000000001\n",
      "Sample Rate: 0.59\n",
      "Sample Rate: 0.6\n",
      "Sample Rate: 0.61\n",
      "Sample Rate: 0.62\n",
      "Sample Rate: 0.63\n",
      "Sample Rate: 0.64\n",
      "Sample Rate: 0.65\n",
      "Sample Rate: 0.66\n",
      "Sample Rate: 0.67\n",
      "Sample Rate: 0.68\n",
      "Sample Rate: 0.6900000000000001\n",
      "Sample Rate: 0.7000000000000001\n",
      "Sample Rate: 0.7100000000000001\n",
      "Sample Rate: 0.72\n",
      "Sample Rate: 0.73\n",
      "Sample Rate: 0.74\n",
      "Sample Rate: 0.75\n",
      "Sample Rate: 0.76\n",
      "Sample Rate: 0.77\n",
      "Sample Rate: 0.78\n",
      "Sample Rate: 0.79\n",
      "Sample Rate: 0.8\n",
      "Sample Rate: 0.81\n",
      "Sample Rate: 0.8200000000000001\n",
      "Sample Rate: 0.8300000000000001\n",
      "Sample Rate: 0.8400000000000001\n",
      "Sample Rate: 0.85\n",
      "Sample Rate: 0.86\n",
      "Sample Rate: 0.87\n",
      "Sample Rate: 0.88\n",
      "Sample Rate: 0.89\n",
      "Sample Rate: 0.9\n",
      "Sample Rate: 0.91\n",
      "Sample Rate: 0.92\n",
      "Sample Rate: 0.93\n",
      "Sample Rate: 0.9400000000000001\n",
      "Sample Rate: 0.9500000000000001\n",
      "Sample Rate: 0.9600000000000001\n",
      "Sample Rate: 0.97\n",
      "Sample Rate: 0.98\n",
      "Sample Rate: 0.99\n",
      "Sample Rate: 1.0\n"
     ]
    },
    {
     "data": {
      "image/png": "[encoded data removed]",
      "text/plain": [
       "<Figure size 640x480 with 1 Axes>"
      ]
     },
     "metadata": {},
     "output_type": "display_data"
    }
   ],
   "source": [
    "# sample rates are from 0 to 1 in increments of 0.01\n",
    "sample_rates = np.arange(0.01, 1.01, 0.01)\n",
    "# create a dictionary for each metric\n",
    "mse_dict = {}\n",
    "r2_dict = {}\n",
    "pearson_dict = {}\n",
    "spearman_dict = {}\n",
    "\n",
    "for index, sample_rate in enumerate(sample_rates):\n",
    "    if index % 10 == 0:\n",
    "        print('Sample Rate: ', sample_rate)\n",
    "    for i in range (10):\n",
    "        x_train_sample, y_train_sample = sample_data(x_train, y_train, sample_rate, seed = i)\n",
    "        results = xgb_results_regression(x_train_sample, x_test, y_train_sample, y_test)\n",
    "        test_results = results['Testing Metrics']\n",
    "        if sample_rate not in mse_dict:\n",
    "            mse_dict[sample_rate] = [test_results['MSE']]\n",
    "        else:\n",
    "            mse_dict[sample_rate].append(test_results['MSE'])\n",
    "\n",
    "    mse_dict[sample_rate] = np.mean(mse_dict[sample_rate])\n",
    "\n",
    "\n",
    "\n",
    "# graph mse results\n",
    "plt.plot(list(mse_dict.keys()), list(mse_dict.values()))\n",
    "plt.xlabel('Sample Rate')\n",
    "plt.ylabel('MSE')\n",
    "plt.title('MSE vs Sample Rate')\n",
    "plt.show()\n"
   ]
  }
 ],
 "metadata": {
  "kernelspec": {
   "display_name": "Python 3",
   "language": "python",
   "name": "python3"
  },
  "language_info": {
   "codemirror_mode": {
    "name": "ipython",
    "version": 3
   },
   "file_extension": ".py",
   "mimetype": "text/x-python",
   "name": "python",
   "nbconvert_exporter": "python",
   "pygments_lexer": "ipython3",
   "version": "3.11.4"
  }
 },
 "nbformat": 4,
 "nbformat_minor": 2
}
