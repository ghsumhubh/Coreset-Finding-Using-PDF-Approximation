{
 "cells": [
  {
   "cell_type": "code",
   "execution_count": 1,
   "metadata": {},
   "outputs": [],
   "source": [
    "from xgb_results import xgb_results_regression\n",
    "from split import split_data\n",
    "from pprint import pprint\n",
    "from utils import *\n",
    "from get_data import get_uci_dataset\n",
    "import pandas as pd\n",
    "import numpy as np\n",
    "import matplotlib.pyplot as plt"
   ]
  },
  {
   "cell_type": "code",
   "execution_count": 2,
   "metadata": {},
   "outputs": [
    {
     "name": "stdout",
     "output_type": "stream",
     "text": [
      "{'categorical features': [],\n",
      " 'dataset name': 'AIDS Clinical Trials Group Study 175',\n",
      " 'number of features': 23,\n",
      " 'number of test examples': 2139,\n",
      " 'number of training examples': 2139,\n",
      " 'variables information':        name     role        type         demographic  \\\n",
      "0    pidnum       ID     Integer                None   \n",
      "1       cid   Target      Binary                None   \n",
      "2      time  Feature     Integer                None   \n",
      "3       trt  Feature     Integer                None   \n",
      "4       age  Feature     Integer                 Age   \n",
      "5      wtkg  Feature  Continuous                None   \n",
      "6      hemo  Feature      Binary                None   \n",
      "7      homo  Feature      Binary  Sexual Orientation   \n",
      "8     drugs  Feature      Binary                None   \n",
      "9    karnof  Feature     Integer                None   \n",
      "10   oprior  Feature      Binary                None   \n",
      "11      z30  Feature      Binary                None   \n",
      "12   zprior  Feature      Binary                None   \n",
      "13  preanti  Feature     Integer                None   \n",
      "14     race  Feature     Integer                Race   \n",
      "15   gender  Feature      Binary              Gender   \n",
      "16     str2  Feature      Binary                None   \n",
      "17    strat  Feature     Integer                None   \n",
      "18  symptom  Feature      Binary                None   \n",
      "19    treat  Feature      Binary                None   \n",
      "20   offtrt  Feature      Binary                None   \n",
      "21     cd40  Feature     Integer                None   \n",
      "22    cd420  Feature     Integer                None   \n",
      "23     cd80  Feature     Integer                None   \n",
      "24    cd820  Feature     Integer                None   \n",
      "\n",
      "                                          description units missing_values  \n",
      "0                                          Patient ID  None             no  \n",
      "1    censoring indicator (1 = failure, 0 = censoring)  None             no  \n",
      "2                        time to failure or censoring  None             no  \n",
      "3   treatment indicator (0 = ZDV only; 1 = ZDV + d...  None             no  \n",
      "4                               age (yrs) at baseline  None             no  \n",
      "5                             weight (kg) at baseline  None             no  \n",
      "6                            hemophilia (0=no, 1=yes)  None             no  \n",
      "7                   homosexual activity (0=no, 1=yes)  None             no  \n",
      "8                history of IV drug use (0=no, 1=yes)  None             no  \n",
      "9               Karnofsky score (on a scale of 0-100)  None             no  \n",
      "10  Non-ZDV antiretroviral therapy pre-175 (0=no, ...  None             no  \n",
      "11      ZDV in the 30 days prior to 175 (0=no, 1=yes)  None             no  \n",
      "12                     ZDV prior to 175 (0=no, 1=yes)  None             no  \n",
      "13             # days pre-175 anti-retroviral therapy  None             no  \n",
      "14                        race (0=White, 1=non-white)  None             no  \n",
      "15                                  gender (0=F, 1=M)  None             no  \n",
      "16    antiretroviral history (0=naive, 1=experienced)  None             no  \n",
      "17  antiretroviral history stratification (1='Anti...  None             no  \n",
      "18            symptomatic indicator (0=asymp, 1=symp)  None             no  \n",
      "19         treatment indicator (0=ZDV only, 1=others)  None             no  \n",
      "20  indicator of off-trt before 96+/-5 weeks (0=no...  None             no  \n",
      "21                                    CD4 at baseline  None             no  \n",
      "22                                CD4 at 20+/-5 weeks  None             no  \n",
      "23                                    CD8 at baseline  None             no  \n",
      "24                                CD8 at 20+/-5 weeks  None             no  }\n"
     ]
    }
   ],
   "source": [
    "x,y, description = get_uci_dataset(2) #Dataset 1 has 2 colums we need to predict...\n",
    "pprint(description)"
   ]
  },
  {
   "cell_type": "code",
   "execution_count": 3,
   "metadata": {},
   "outputs": [
    {
     "name": "stdout",
     "output_type": "stream",
     "text": [
      "Number of features:  23\n",
      "Number of training examples:  1711\n",
      "Number of test examples:  428\n"
     ]
    }
   ],
   "source": [
    "x_train, x_test, y_train, y_test = split_data(x, y)\n",
    "x_train, x_test, y_train, y_test = convert_to_numpy_dataset(x_train, x_test, y_train, y_test)"
   ]
  },
  {
   "cell_type": "code",
   "execution_count": 4,
   "metadata": {},
   "outputs": [
    {
     "name": "stdout",
     "output_type": "stream",
     "text": [
      "[0 1 0 0 0 0 0 0 0 0 1 1 0 0 0 1 0 0 0 0 0 0 0 0 1 0 0 0 0 1 0 0 0 0 0 1 0\n",
      " 0 0 1 0 0 0 0 1 0 0 0 0 0 0 0 0 0 0 0 0 0 0 0 1 0 0 0 0 0 0 0 0 0 0 1 0 1\n",
      " 1 1 0 0 0 1 0 0 0 1 0 1 1 0 0 0 0 0 0 0 0 0 0 0 0 1 0 1 0 1 0 0 1 0 0 1 0\n",
      " 0 1 0 0 1 0 0 0 1 0 0 0 1 0 0 1 1 1 1 0 0 0 0 0 0 1 1 1 0 0 0 0 0 1 0 1 0\n",
      " 0 0 1 1 0 0 0 0 1 1 1 0 0 0 0 0 0 0 0 0 0 1 0 1 1 0 0 0 1 1 0 0 0 0 0 1 1\n",
      " 0 0 0 0 0 1 0 0 1 0 0 0 0 0 0 0 0 0 0 0 1 0 0 0 0 1 0 0 1 1 0 0 1 1 0 0 0\n",
      " 1 0 0 0 0 0 0 1 0 0 0 0 0 0 0 0 1 0 0 1 0 0 0 0 0 0 0 0 0 0 0 0 0 0 0 0 1\n",
      " 0 0 0 1 0 0 0 0 0 0 0 0 0 0 1 0 0 1 1 0 0 0 1 0 0 0 0 1 0 0 0 1 1 0 0 0 0\n",
      " 0 1 0 0 1 1 0 0 0 0 0 1 0 0 0 0 0 1 1 0 1 0 0 0 0 0 0 0 1 0 0 0 0 0 0 1 0\n",
      " 0 1 0 0 0 0 1 0 1 0 1 0 0 0 0 0 0 1 0 0 1 0 1 1 0 0 0 0 0 0 0 0 1 0 1 0 0\n",
      " 0 1 0 0 1 0 1 0 0 1 0 0 0 1 0 0 0 0 0 0 0 0 0 0 0 0 0 0 1 1 0 0 1 0 0 0 0\n",
      " 0 1 0 0 0 1 1 0 1 0 0 0 0 0 0 0 1 0 0 0 0]\n"
     ]
    }
   ],
   "source": [
    "print(y_test)"
   ]
  },
  {
   "cell_type": "code",
   "execution_count": 5,
   "metadata": {},
   "outputs": [
    {
     "name": "stdout",
     "output_type": "stream",
     "text": [
      "{'Testing Metrics': {'MSE': 0.09032473560251866,\n",
      "                     'Pearson': 0.7116221023900426,\n",
      "                     'R^2 Score': 0.49901455274133955,\n",
      "                     'Spearman': 0.607362871658546},\n",
      " 'Training Metrics': {'MSE': 0.0004781508511815307,\n",
      "                      'Pearson': 0.9988596827205314,\n",
      "                      'R^2 Score': 0.9974183972225262,\n",
      "                      'Spearman': 0.7454155672704781}}\n"
     ]
    }
   ],
   "source": [
    "results = xgb_results_regression(x_train, x_test, y_train, y_test)\n",
    "pprint(results)\n",
    "\n",
    "metrics = ['MSE', 'R^2 Score', 'Pearson', 'Spearman']"
   ]
  },
  {
   "cell_type": "code",
   "execution_count": 6,
   "metadata": {},
   "outputs": [
    {
     "name": "stdout",
     "output_type": "stream",
     "text": [
      "{'mean': {'MSE': 0.18035174548510868, 'R^2': -0.00031956111497111195},\n",
      " 'median': {'MSE': 0.23598130841121495, 'R^2': -0.308868501529052}}\n"
     ]
    }
   ],
   "source": [
    "guesses = get_baseline_guesses(np.concatenate((y_train, y_test)))\n",
    "baseline_results = get_baseline_results(y_test, guesses)\n",
    "pprint(baseline_results)"
   ]
  },
  {
   "cell_type": "code",
   "execution_count": 7,
   "metadata": {},
   "outputs": [
    {
     "name": "stdout",
     "output_type": "stream",
     "text": [
      "Sample Rate:  0.01\n",
      "Sample Rate:  0.11\n",
      "Sample Rate:  0.21000000000000002\n",
      "Sample Rate:  0.31\n",
      "Sample Rate:  0.41000000000000003\n",
      "Sample Rate:  0.51\n",
      "Sample Rate:  0.61\n",
      "Sample Rate:  0.7100000000000001\n",
      "Sample Rate:  0.81\n"
     ]
    }
   ],
   "source": [
    "# sample rates are from 0 to 1 in increments of 0.01\n",
    "sample_rates = np.arange(0.01, 1.01, 0.01)\n",
    "# create a dictionary for each metric\n",
    "mse_dict = {}\n",
    "r2_dict = {}\n",
    "pearson_dict = {}\n",
    "spearman_dict = {}\n",
    "\n",
    "for index, sample_rate in enumerate(sample_rates):\n",
    "    if index % 10 == 0:\n",
    "        print('Sample Rate: ', sample_rate)\n",
    "    for i in range (10):\n",
    "        x_train_sample, y_train_sample = sample_data(x_train, y_train, sample_rate, seed = i)\n",
    "        results = xgb_results_regression(x_train_sample, x_test, y_train_sample, y_test)\n",
    "        test_results = results['Testing Metrics']\n",
    "        if sample_rate not in mse_dict:\n",
    "            mse_dict[sample_rate] = [test_results['MSE']]\n",
    "        else:\n",
    "            mse_dict[sample_rate].append(test_results['MSE'])\n",
    "\n",
    "    mse_dict[sample_rate] = np.mean(mse_dict[sample_rate])\n",
    "\n",
    "\n",
    "\n",
    "# graph mse results\n",
    "plt.plot(list(mse_dict.keys()), list(mse_dict.values()))\n",
    "plt.xlabel('Sample Rate')\n",
    "plt.ylabel('MSE')\n",
    "plt.title('MSE vs Sample Rate')\n",
    "plt.show()\n",
    "\n"
   ]
  }
 ],
 "metadata": {
  "kernelspec": {
   "display_name": "Python 3",
   "language": "python",
   "name": "python3"
  },
  "language_info": {
   "codemirror_mode": {
    "name": "ipython",
    "version": 3
   },
   "file_extension": ".py",
   "mimetype": "text/x-python",
   "name": "python",
   "nbconvert_exporter": "python",
   "pygments_lexer": "ipython3",
   "version": "3.11.4"
  }
 },
 "nbformat": 4,
 "nbformat_minor": 2
}
