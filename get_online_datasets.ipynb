{
 "cells": [
  {
   "cell_type": "code",
   "execution_count": 4,
   "metadata": {},
   "outputs": [],
   "source": [
    "from ucimlrepo import fetch_ucirepo \n",
    "import pandas as pd"
   ]
  },
  {
   "cell_type": "code",
   "execution_count": 6,
   "metadata": {},
   "outputs": [],
   "source": [
    "def get_uci_datasets(id):\n",
    "\n",
    "    dataset = fetch_ucirepo(id=1)\n",
    "    X = dataset.data.features\n",
    "    Y = dataset.data.targets\n",
    "\n",
    "    if Y.shape[1] > 1:\n",
    "        print('Warning: Y has more than 1 column. Using only the first column')\n",
    "        Y = Y.iloc[:,0]\n",
    "\n",
    "\n",
    "    # concact the features and targets\n",
    "\n",
    "    data = pd.concat([X,Y], axis=1)\n",
    "\n",
    "    return data\n",
    "\n",
    "\n",
    "for index in [1]:\n",
    "    data = get_uci_datasets(index)\n",
    "    # save the data to /local datasets\n",
    "    data.to_csv(f'./data/preprocessed_datasets/uci_{index}.csv', index=False)"
   ]
  }
 ],
 "metadata": {
  "kernelspec": {
   "display_name": "Python 3",
   "language": "python",
   "name": "python3"
  },
  "language_info": {
   "codemirror_mode": {
    "name": "ipython",
    "version": 3
   },
   "file_extension": ".py",
   "mimetype": "text/x-python",
   "name": "python",
   "nbconvert_exporter": "python",
   "pygments_lexer": "ipython3",
   "version": "3.11.4"
  }
 },
 "nbformat": 4,
 "nbformat_minor": 2
}
