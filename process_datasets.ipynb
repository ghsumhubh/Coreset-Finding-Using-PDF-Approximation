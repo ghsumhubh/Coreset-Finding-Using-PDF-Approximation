{
 "cells": [
  {
   "cell_type": "code",
   "execution_count": 3,
   "metadata": {},
   "outputs": [],
   "source": [
    "from scripts.xgb_results import xgb_results_regression, get_all_data_and_baseline_results\n",
    "from pprint import pprint\n",
    "from scripts.utils import *\n",
    "from scripts.get_data import get_dataset\n",
    "import pandas as pd\n",
    "import numpy as np\n",
    "import matplotlib.pyplot as plt\n",
    "from scripts.genetic import GeneticAlgorithmSampler\n",
    "from scripts.fitness_funcs import *\n",
    "from IPython.display import clear_output\n",
    "from scripts.plots import *\n",
    "import time\n",
    "import sys\n",
    "import os\n"
   ]
  },
  {
   "cell_type": "code",
   "execution_count": 4,
   "metadata": {},
   "outputs": [],
   "source": [
    "# make datasets folder\n",
    "if not os.path.exists('datasets'):\n",
    "    os.makedirs('datasets')\n",
    "\n",
    "# make subfolder for regression datasets\n",
    "if not os.path.exists('datasets/regression'):\n",
    "    os.makedirs('datasets/regression')\n",
    "\n",
    "# make subfolder for classification datasets\n",
    "if not os.path.exists('datasets/classification'):\n",
    "    os.makedirs('datasets/classification')"
   ]
  },
  {
   "cell_type": "code",
   "execution_count": 6,
   "metadata": {},
   "outputs": [
    {
     "name": "stdout",
     "output_type": "stream",
     "text": [
      "Number of features:  10\n",
      "Number of training examples:  3341\n",
      "Number of test examples:  836\n",
      "Number of features:  19\n",
      "Number of training examples:  4700\n",
      "Number of test examples:  1175\n",
      "Number of features:  23\n",
      "Number of training examples:  1711\n",
      "Number of test examples:  428\n",
      "Number of features:  23\n",
      "Number of training examples:  7284\n",
      "Number of test examples:  1821\n",
      "Number of features:  45\n",
      "Number of training examples:  816\n",
      "Number of test examples:  204\n"
     ]
    }
   ],
   "source": [
    "# get UCI datasets after categorical features are encoded to one-hot and we selected one of the two columns to predict\n",
    "dataset_ids = [0, 1, 2, 3, 4]\n",
    "UCI_DATASETS_NAMES = ['Abalone', \n",
    "        'Parkinsons Telemonitoring',\n",
    "        'AIDS Clinical Trials Group Study 175',\n",
    "        'SUPPORT2',\n",
    "        'Infared Thermography Temperature',\n",
    "    ]\n",
    "IS_CLASSIFICATION = [False, True, False, False, True]\n",
    "def make_datset(id, name, is_classification=False):\n",
    "        # create folder\n",
    "        if not os.path.exists(f'datasets/{name}'):\n",
    "            os.makedirs(f'datasets/{name}')\n",
    "\n",
    "        x_train, x_test, y_train, y_test, description = get_dataset(id) #Dataset 1 has 2 colums we need to predict...\n",
    "\n",
    "        # convert each to pandas\n",
    "        x_train = pd.DataFrame(x_train)\n",
    "        x_test = pd.DataFrame(x_test)\n",
    "        y_train = pd.DataFrame(y_train)\n",
    "        y_test = pd.DataFrame(y_test)\n",
    "\n",
    "        x_combined = pd.concat([x_train, x_test])\n",
    "        y_combined = pd.concat([y_train, y_test])\n",
    "\n",
    "\n",
    "        if is_classification:\n",
    "             path = f'datasets/classification/{name}'\n",
    "        else:\n",
    "            path = f'datasets/regression/{name}'\n",
    "        # save as csv without the first row\n",
    "        x_train.to_csv(f'{path}/x_train.csv', index=False, header=False)\n",
    "        x_test.to_csv(f'{path}/x_test.csv', index=False, header=False)\n",
    "        y_train.to_csv(f'{path}/y_train.csv', index=False, header=False)\n",
    "        y_test.to_csv(f'{path}/y_test.csv', index=False, header=False)\n",
    "        x_combined.to_csv(f'{path}/x_combined.csv', index=False, header=False)\n",
    "        y_combined.to_csv(f'{path}/y_combined.csv', index=False, header=False)\n",
    "\n",
    "\n",
    "        # save the description dictionary\n",
    "        with open(f'datasets/{name}/description.txt', 'w') as f:\n",
    "            for key, value in description.items():\n",
    "                f.write(f'{key}: {value}\\n')\n",
    "\n",
    "\n",
    "    \n",
    "        \n",
    "    \n",
    "\n",
    "\n",
    "    "
   ]
  },
  {
   "cell_type": "code",
   "execution_count": null,
   "metadata": {},
   "outputs": [],
   "source": []
  }
 ],
 "metadata": {
  "kernelspec": {
   "display_name": "Python 3",
   "language": "python",
   "name": "python3"
  },
  "language_info": {
   "codemirror_mode": {
    "name": "ipython",
    "version": 3
   },
   "file_extension": ".py",
   "mimetype": "text/x-python",
   "name": "python",
   "nbconvert_exporter": "python",
   "pygments_lexer": "ipython3",
   "version": "3.11.4"
  }
 },
 "nbformat": 4,
 "nbformat_minor": 2
}
