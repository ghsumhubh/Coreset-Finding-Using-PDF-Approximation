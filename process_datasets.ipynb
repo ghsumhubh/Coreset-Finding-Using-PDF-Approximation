{
 "cells": [
  {
   "cell_type": "markdown",
   "metadata": {},
   "source": [
    "# Imports"
   ]
  },
  {
   "cell_type": "code",
   "execution_count": 41,
   "metadata": {},
   "outputs": [],
   "source": [
    "import pandas as pd\n",
    "import os\n",
    "from scripts.utils import *\n",
    "from sklearn.model_selection import train_test_split\n",
    "\n",
    "PREPROCESSED_DATASETS_PATH = 'data/preprocessed_datasets'"
   ]
  },
  {
   "cell_type": "markdown",
   "metadata": {},
   "source": [
    "# Preprocessing"
   ]
  },
  {
   "cell_type": "code",
   "execution_count": 42,
   "metadata": {},
   "outputs": [
    {
     "name": "stdout",
     "output_type": "stream",
     "text": [
      "['insurance.csv', 'melb_data.csv', 'SeoulBikeData.csv', 'Sleep_Efficiency.csv', 'uci_1.csv', 'winequalityN.csv']\n"
     ]
    }
   ],
   "source": [
    "# get all csv files in the preprocessed datasets folder\n",
    "csv_files = [f for f in os.listdir(PREPROCESSED_DATASETS_PATH) if f.endswith('.csv')]\n",
    "print(csv_files)"
   ]
  },
  {
   "cell_type": "code",
   "execution_count": 43,
   "metadata": {},
   "outputs": [
    {
     "name": "stdout",
     "output_type": "stream",
     "text": [
      "Preprocessing insurance.csv...\n",
      "insurance.csv has 0 rows with nan values\n",
      "Applying custom mapping for column sex in insurance.csv\n",
      "Applying custom mapping for column smoker in insurance.csv\n",
      "\n",
      "\n",
      "Preprocessing melb_data.csv...\n",
      "melb_data.csv has 6750 rows with nan values\n",
      "\n",
      "\n",
      "Preprocessing SeoulBikeData.csv...\n",
      "SeoulBikeData.csv has 0 rows with nan values\n",
      "Applying custom mapping for column Holiday in SeoulBikeData.csv\n",
      "Applying custom mapping for column Functioning Day in SeoulBikeData.csv\n",
      "\n",
      "\n",
      "Preprocessing Sleep_Efficiency.csv...\n",
      "Sleep_Efficiency.csv has 64 rows with nan values\n",
      "Applying custom mapping for column Gender in Sleep_Efficiency.csv\n",
      "Applying custom mapping for column Smoking status in Sleep_Efficiency.csv\n",
      "\n",
      "\n",
      "Preprocessing uci_1.csv...\n",
      "uci_1.csv has 0 rows with nan values\n",
      "\n",
      "\n",
      "Preprocessing winequalityN.csv...\n",
      "winequalityN.csv has 34 rows with nan values\n",
      "Applying custom mapping for column type in winequalityN.csv\n",
      "\n",
      "\n"
     ]
    }
   ],
   "source": [
    "for csv_file in csv_files:\n",
    "    print(f'Preprocessing {csv_file}...')\n",
    "\n",
    "    try:\n",
    "        df = pd.read_csv(f'{PREPROCESSED_DATASETS_PATH}/{csv_file}', encoding='utf-8')\n",
    "    except UnicodeDecodeError:\n",
    "        try:\n",
    "            df = pd.read_csv(f'{PREPROCESSED_DATASETS_PATH}/{csv_file}', encoding='ISO-8859-1')\n",
    "        except UnicodeDecodeError:\n",
    "            df = pd.read_csv(f'{PREPROCESSED_DATASETS_PATH}/{csv_file}', encoding='cp1252')\n",
    "\n",
    "    # get all rows with nan values \n",
    "    nan_rows = df[df.isnull().any(axis=1)]\n",
    "    print(f'{csv_file} has {nan_rows.shape[0]} rows with nan values')\n",
    "\n",
    "    # drop rows with nan values\n",
    "    df = df.dropna()\n",
    "\n",
    "    # target column is the last column\n",
    "    target_column = df.columns[-1]\n",
    "\n",
    "    custom_value_mappings = {\n",
    "        'True': 1, 'False': 0,  # Assuming your dataframe uses string 'True'/'False'\n",
    "        True: 1, False: 0,  # Direct boolean values\n",
    "        'Yes': 1, 'No': 0,\n",
    "        'yes': 1, 'no': 0,\n",
    "        'Holiday': 1, 'No Holiday': 0,\n",
    "        'male': 1, 'female': 0,\n",
    "        'Male': 1, 'Female': 0,\n",
    "        'red' :1, 'white': 0,\n",
    "    }\n",
    "\n",
    "    custom_column_mappings = {\n",
    "        'sex': 'is_male',\n",
    "        'smoker': 'is_smoker',\n",
    "        'Holiday': 'is_holiday',\n",
    "        'Functioning Day': 'is_functioning_day',\n",
    "        'Smoking status': 'is_smoking',\n",
    "        'Gender': 'is_male',\n",
    "        'type': 'is_red'\n",
    "    }\n",
    "\n",
    "\n",
    "    # Apply custom mappings for binary columns\n",
    "    for column in df.columns[:-1]:  # Exclude target column from this preprocessing\n",
    "        if set(df[column].unique()).issubset(set(custom_value_mappings.keys())):\n",
    "            df[column] = df[column].map(custom_value_mappings)\n",
    "\n",
    "            new_name = custom_column_mappings[column] if column in custom_column_mappings else column\n",
    "\n",
    "            print(f'Applying custom mapping for column {column} in {csv_file}')\n",
    "\n",
    "            df = df.rename(columns={column: new_name})\n",
    "\n",
    "    \n",
    "\n",
    "\n",
    "    # Convert non-numeric columns to categorical columns\n",
    "    df = pd.get_dummies(df)\n",
    "\n",
    "    # make all TRUE 1 and FALSE 0\n",
    "    df = df.replace({True: 1, False: 0})\n",
    "\n",
    "    # put the target column at the end\n",
    "    df = df[[column for column in df if column != target_column] + [target_column]]\n",
    "\n",
    "\n",
    "    # Remove columns with only 1 unique value\n",
    "    for column in df.columns:\n",
    "        if len(df[column].unique()) == 1:\n",
    "            print(f'Removing column {column} from {csv_file} because it has only 1 unique value')\n",
    "            df = df.drop(column, axis=1)\n",
    "\n",
    "    # Save preprocessed dataset to /data/procesed_datasets\n",
    "    df.to_csv(f'data/processed_datasets/{csv_file}', index=False)\n",
    "    print('\\n')\n"
   ]
  },
  {
   "cell_type": "markdown",
   "metadata": {},
   "source": [
    "# Train-Test Split"
   ]
  },
  {
   "cell_type": "code",
   "execution_count": 44,
   "metadata": {},
   "outputs": [],
   "source": [
    "if not os.path.exists('data/split_datasets'):\n",
    "    os.makedirs('data/split_datasets')\n",
    "    "
   ]
  },
  {
   "cell_type": "code",
   "execution_count": 45,
   "metadata": {},
   "outputs": [],
   "source": [
    "for csv_file in csv_files:\n",
    "    name = csv_file.split('.')[0]\n",
    "    name = name_to_pretty_name(name)\n",
    "    # create a folder for each dataset\n",
    "    if not os.path.exists(f'data/split_datasets/{name}'):\n",
    "        os.makedirs(f'data/split_datasets/{name}')\n",
    "    df = pd.read_csv(f'data/processed_datasets/{csv_file}')\n",
    "\n",
    "    # split into 20 % test and 80 % train\n",
    "    train, test = train_test_split(df, test_size=0.2, random_state=42)\n",
    "    train.to_csv(f'data/split_datasets/{name}/train.csv', index=False)\n",
    "    test.to_csv(f'data/split_datasets/{name}/test.csv', index=False)\n"
   ]
  }
 ],
 "metadata": {
  "kernelspec": {
   "display_name": "Python 3",
   "language": "python",
   "name": "python3"
  },
  "language_info": {
   "codemirror_mode": {
    "name": "ipython",
    "version": 3
   },
   "file_extension": ".py",
   "mimetype": "text/x-python",
   "name": "python",
   "nbconvert_exporter": "python",
   "pygments_lexer": "ipython3",
   "version": "3.11.4"
  }
 },
 "nbformat": 4,
 "nbformat_minor": 2
}
