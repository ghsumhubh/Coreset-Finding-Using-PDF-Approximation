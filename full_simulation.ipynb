{
 "cells": [
  {
   "cell_type": "code",
   "execution_count": 1,
   "metadata": {},
   "outputs": [],
   "source": [
    "from scripts.full_sim import do_full_simulation"
   ]
  },
  {
   "cell_type": "code",
   "execution_count": 2,
   "metadata": {},
   "outputs": [
    {
     "name": "stdout",
     "output_type": "stream",
     "text": [
      "Sample Size: 10 \n",
      "\n",
      "Iteration 1/10\n",
      "\tGeneration 1\n"
     ]
    }
   ],
   "source": [
    "dataset_name = 'ALL'\n",
    "#dataset_name = 'Insurance'\n",
    "\n",
    "REDUNDANCY = 10\n",
    "SAMPLE_SIZES = [10,50, 100]\n",
    "\n",
    "do_full_simulation(dataset_name, sample_sizes=SAMPLE_SIZES, redundancy=REDUNDANCY)"
   ]
  }
 ],
 "metadata": {
  "kernelspec": {
   "display_name": "Python 3",
   "language": "python",
   "name": "python3"
  },
  "language_info": {
   "codemirror_mode": {
    "name": "ipython",
    "version": 3
   },
   "file_extension": ".py",
   "mimetype": "text/x-python",
   "name": "python",
   "nbconvert_exporter": "python",
   "pygments_lexer": "ipython3",
   "version": "3.11.4"
  }
 },
 "nbformat": 4,
 "nbformat_minor": 2
}
