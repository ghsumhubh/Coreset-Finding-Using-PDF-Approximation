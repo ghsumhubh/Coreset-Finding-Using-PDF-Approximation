{
 "cells": [
  {
   "cell_type": "code",
   "execution_count": 1,
   "metadata": {},
   "outputs": [],
   "source": [
    "from scripts.full_sim import do_full_simulation"
   ]
  },
  {
   "cell_type": "code",
   "execution_count": 2,
   "metadata": {},
   "outputs": [
    {
     "name": "stdout",
     "output_type": "stream",
     "text": [
      "Sample Size: 150 \n",
      "\n",
      "Iteration 1/1\n",
      "\tGeneration 1\n",
      "\t\tBest fitness:  -0.753967059894161\n",
      "\tGeneration 2\n",
      "\tGeneration 3\n",
      "\tGeneration 4\n",
      "\tGeneration 5\n",
      "\tGeneration 6\n",
      "\tGeneration 7\n",
      "\tGeneration 8\n",
      "\tGeneration 9\n",
      "\tGeneration 10\n",
      "\tGeneration 11\n",
      "\tGeneration 12\n",
      "\tGeneration 13\n",
      "\tGeneration 14\n",
      "\t\tBest fitness:  -0.7476634874575275  (improved)\n",
      "\tGeneration 15\n",
      "\tGeneration 16\n",
      "\tGeneration 17\n",
      "\tGeneration 18\n",
      "\tGeneration 19\n",
      "\tGeneration 20\n",
      "\tGeneration 21\n",
      "\tGeneration 22\n",
      "\tGeneration 23\n",
      "\tGeneration 24\n",
      "\tGeneration 25\n",
      "\tGeneration 26\n",
      "\tGeneration 27\n",
      "\tGeneration 28\n",
      "\tGeneration 29\n",
      "\tGeneration 30\n"
     ]
    }
   ],
   "source": [
    "dataset_name = 'ALL'\n",
    "#dataset_name = 'Insurance'\n",
    "\n",
    "REDUNDANCY = 20\n",
    "SAMPLE_SIZES = [50, 100]\n",
    "\n",
    "do_full_simulation(dataset_name, sample_sizes=SAMPLE_SIZES, redundancy=REDUNDANCY)"
   ]
  }
 ],
 "metadata": {
  "kernelspec": {
   "display_name": "Python 3",
   "language": "python",
   "name": "python3"
  },
  "language_info": {
   "codemirror_mode": {
    "name": "ipython",
    "version": 3
   },
   "file_extension": ".py",
   "mimetype": "text/x-python",
   "name": "python",
   "nbconvert_exporter": "python",
   "pygments_lexer": "ipython3",
   "version": "3.11.4"
  }
 },
 "nbformat": 4,
 "nbformat_minor": 2
}
