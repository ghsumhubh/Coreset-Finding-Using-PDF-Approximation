{
 "cells": [
  {
   "cell_type": "code",
   "execution_count": 1,
   "metadata": {},
   "outputs": [],
   "source": [
    "from scripts.full_sim import do_full_simulation"
   ]
  },
  {
   "cell_type": "code",
   "execution_count": 2,
   "metadata": {},
   "outputs": [],
   "source": [
    "dataset_name = 'ALL'\n",
    "#dataset_name = 'Insurance'\n",
    "dataset_name = 'Sleep Efficiency'\n",
    "REDUNDANCY = 40\n",
    "SAMPLE_SIZES = [10,50, 100]\n",
    "REDUNDANCY = 2\n",
    "SAMPLE_SIZES = [10,50]\n",
    "\n",
    "\n",
    "do_full_simulation(dataset_name, sample_sizes=SAMPLE_SIZES, redundancy=REDUNDANCY)"
   ]
  }
 ],
 "metadata": {
  "kernelspec": {
   "display_name": "Python 3",
   "language": "python",
   "name": "python3"
  },
  "language_info": {
   "codemirror_mode": {
    "name": "ipython",
    "version": 3
   },
   "file_extension": ".py",
   "mimetype": "text/x-python",
   "name": "python",
   "nbconvert_exporter": "python",
   "pygments_lexer": "ipython3",
   "version": "3.11.4"
  }
 },
 "nbformat": 4,
 "nbformat_minor": 2
}
