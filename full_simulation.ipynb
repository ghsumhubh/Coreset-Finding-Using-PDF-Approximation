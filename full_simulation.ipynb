{
 "cells": [
  {
   "cell_type": "code",
   "execution_count": 1,
   "metadata": {},
   "outputs": [
    {
     "name": "stdout",
     "output_type": "stream",
     "text": [
      "Finished running full simulation\n"
     ]
    }
   ],
   "source": [
    "from scripts.full_sim import do_full_simulation\n",
    "from scripts.config import get_sample_sizes_for_dataset, get_all_dataset_names"
   ]
  },
  {
   "cell_type": "code",
   "execution_count": 2,
   "metadata": {},
   "outputs": [
    {
     "name": "stdout",
     "output_type": "stream",
     "text": [
      "Available datasets:  ['Abalone', 'Insurance', 'Melbourne Housing', 'Seoul Bike', 'Sleep Efficiency', 'Wine Quality']\n"
     ]
    }
   ],
   "source": [
    "print(\"Available datasets: \", get_all_dataset_names())"
   ]
  },
  {
   "cell_type": "code",
   "execution_count": null,
   "metadata": {},
   "outputs": [],
   "source": [
    "# USAGE\n",
    "# dataset_name = 'Abalone' - name of the dataset\n",
    "# sample_sizes = list of sample sizes to use, can use get_sample_sizes_for_dataset(dataset_name) to get the default sample sizes\n",
    "# redundancy = 20 - number of times to repeat the simulation\n",
    "# columns_to_use = ['Length', 'Diameter', 'Rings'] - list of columns to use including the target column if needed, use None to use all columns except the target column\n",
    "# weights = [1,2,5] - list of weights to use for the columns, should be the same length as columns_to_use, use None to use equal weights\n",
    "\n",
    "dataset_name = 'Abalone'\n",
    "sample_sizes = get_sample_sizes_for_dataset(dataset_name)\n",
    "redundancy = 20\n",
    "columns_to_use = ['Length', 'Diameter', 'Rings']\n",
    "weights = [1,2,5]\n",
    "\n",
    "\n",
    "do_full_simulation(dataset_name, sample_sizes=sample_sizes, redundancy=redundancy, columns_to_use=columns_to_use, weights=weights)"
   ]
  },
  {
   "cell_type": "code",
   "execution_count": null,
   "metadata": {},
   "outputs": [],
   "source": [
    "# REDUNDANCY = 10\n",
    "# datasets = get_all_dataset_names()\n",
    "# for dataset_name in datasets:\n",
    "#     sample_sizes = get_sample_sizes_for_dataset(dataset_name)\n",
    "#     do_full_simulation(dataset_name, sample_sizes=sample_sizes, redundancy=REDUNDANCY)"
   ]
  }
 ],
 "metadata": {
  "kernelspec": {
   "display_name": "Python 3",
   "language": "python",
   "name": "python3"
  },
  "language_info": {
   "codemirror_mode": {
    "name": "ipython",
    "version": 3
   },
   "file_extension": ".py",
   "mimetype": "text/x-python",
   "name": "python",
   "nbconvert_exporter": "python",
   "pygments_lexer": "ipython3",
   "version": "3.11.4"
  }
 },
 "nbformat": 4,
 "nbformat_minor": 2
}
