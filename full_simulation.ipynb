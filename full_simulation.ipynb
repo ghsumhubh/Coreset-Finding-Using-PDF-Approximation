{
 "cells": [
  {
   "cell_type": "code",
   "execution_count": 1,
   "metadata": {},
   "outputs": [
    {
     "name": "stdout",
     "output_type": "stream",
     "text": [
      "Finished running full simulation\n"
     ]
    },
    {
     "name": "stderr",
     "output_type": "stream",
     "text": [
      "c:\\Users\\tzion\\Documents\\GitHub\\TDS-Project\\scripts\\sample_loop.py:29: SyntaxWarning: \"is\" with a literal. Did you mean \"==\"?\n",
      "  if columns_to_use is None or columns_to_use is 'FEATURES_ONLY':\n",
      "c:\\Users\\tzion\\Documents\\GitHub\\TDS-Project\\scripts\\sample_loop.py:33: SyntaxWarning: \"is\" with a literal. Did you mean \"==\"?\n",
      "  elif columns_to_use is 'FEATURES_AND_LABEL':\n"
     ]
    }
   ],
   "source": [
    "from scripts.full_sim import do_full_simulation\n",
    "from scripts.config import get_sample_sizes_for_dataset, get_all_dataset_names"
   ]
  },
  {
   "cell_type": "code",
   "execution_count": 2,
   "metadata": {},
   "outputs": [
    {
     "name": "stdout",
     "output_type": "stream",
     "text": [
      "Available datasets:  ['Abalone', 'Insurance', 'Melbourne Housing', 'Seoul Bike', 'Sleep Efficiency', 'Wine Quality']\n"
     ]
    }
   ],
   "source": [
    "print(\"Available datasets: \", get_all_dataset_names())"
   ]
  },
  {
   "cell_type": "code",
   "execution_count": 3,
   "metadata": {},
   "outputs": [
    {
     "name": "stdout",
     "output_type": "stream",
     "text": [
      "Running full simulation for Abalone\n",
      "Columns to use: ['Length', 'Diameter', 'Height', 'Whole_weight', 'Shucked_weight', 'Viscera_weight', 'Shell_weight', 'Sex_F', 'Sex_I', 'Sex_M', 'Rings']\n",
      "\tSample Size: 50\n",
      "\t\tIteration 1/20\n"
     ]
    },
    {
     "ename": "KeyboardInterrupt",
     "evalue": "",
     "output_type": "error",
     "traceback": [
      "\u001b[1;31m---------------------------------------------------------------------------\u001b[0m",
      "\u001b[1;31mKeyboardInterrupt\u001b[0m                         Traceback (most recent call last)",
      "Cell \u001b[1;32mIn[3], line 17\u001b[0m\n\u001b[0;32m     13\u001b[0m \u001b[38;5;66;03m#weights = [1,2,5]\u001b[39;00m\n\u001b[0;32m     14\u001b[0m weights \u001b[38;5;241m=\u001b[39m \u001b[38;5;28;01mNone\u001b[39;00m\n\u001b[1;32m---> 17\u001b[0m \u001b[43mdo_full_simulation\u001b[49m\u001b[43m(\u001b[49m\u001b[43mdataset_name\u001b[49m\u001b[43m,\u001b[49m\u001b[43m \u001b[49m\u001b[43msample_sizes\u001b[49m\u001b[38;5;241;43m=\u001b[39;49m\u001b[43msample_sizes\u001b[49m\u001b[43m,\u001b[49m\u001b[43m \u001b[49m\u001b[43mredundancy\u001b[49m\u001b[38;5;241;43m=\u001b[39;49m\u001b[43mredundancy\u001b[49m\u001b[43m,\u001b[49m\u001b[43m \u001b[49m\u001b[43mcolumns_to_use\u001b[49m\u001b[38;5;241;43m=\u001b[39;49m\u001b[43mcolumns_to_use\u001b[49m\u001b[43m,\u001b[49m\u001b[43m \u001b[49m\u001b[43mweights\u001b[49m\u001b[38;5;241;43m=\u001b[39;49m\u001b[43mweights\u001b[49m\u001b[43m)\u001b[49m\n",
      "File \u001b[1;32mc:\\Users\\tzion\\Documents\\GitHub\\TDS-Project\\scripts\\full_sim.py:27\u001b[0m, in \u001b[0;36mdo_full_simulation\u001b[1;34m(dataset_name, sample_sizes, redundancy, columns_to_use, weights)\u001b[0m\n\u001b[0;32m     23\u001b[0m train \u001b[38;5;241m=\u001b[39m pd\u001b[38;5;241m.\u001b[39mread_csv(\u001b[38;5;124mf\u001b[39m\u001b[38;5;124m'\u001b[39m\u001b[38;5;124mdata/split_datasets/\u001b[39m\u001b[38;5;132;01m{\u001b[39;00mdataset_name\u001b[38;5;132;01m}\u001b[39;00m\u001b[38;5;124m/train.csv\u001b[39m\u001b[38;5;124m'\u001b[39m)\n\u001b[0;32m     24\u001b[0m test \u001b[38;5;241m=\u001b[39m pd\u001b[38;5;241m.\u001b[39mread_csv(\u001b[38;5;124mf\u001b[39m\u001b[38;5;124m'\u001b[39m\u001b[38;5;124mdata/split_datasets/\u001b[39m\u001b[38;5;132;01m{\u001b[39;00mdataset_name\u001b[38;5;132;01m}\u001b[39;00m\u001b[38;5;124m/test.csv\u001b[39m\u001b[38;5;124m'\u001b[39m)\n\u001b[1;32m---> 27\u001b[0m results \u001b[38;5;241m=\u001b[39m  \u001b[43msample_and_get_results\u001b[49m\u001b[43m(\u001b[49m\n\u001b[0;32m     28\u001b[0m \u001b[43m    \u001b[49m\u001b[43mdataset_name\u001b[49m\u001b[38;5;241;43m=\u001b[39;49m\u001b[43mdataset_name\u001b[49m\u001b[43m,\u001b[49m\n\u001b[0;32m     29\u001b[0m \u001b[43m    \u001b[49m\u001b[43mtrain\u001b[49m\u001b[38;5;241;43m=\u001b[39;49m\u001b[43mtrain\u001b[49m\u001b[43m,\u001b[49m\n\u001b[0;32m     30\u001b[0m \u001b[43m    \u001b[49m\u001b[43mtest\u001b[49m\u001b[38;5;241;43m=\u001b[39;49m\u001b[43mtest\u001b[49m\u001b[43m,\u001b[49m\n\u001b[0;32m     31\u001b[0m \u001b[43m    \u001b[49m\u001b[43msample_sizes\u001b[49m\u001b[38;5;241;43m=\u001b[39;49m\u001b[43msample_sizes\u001b[49m\u001b[43m,\u001b[49m\n\u001b[0;32m     32\u001b[0m \u001b[43m    \u001b[49m\u001b[43mredundancy\u001b[49m\u001b[38;5;241;43m=\u001b[39;49m\u001b[43mredundancy\u001b[49m\u001b[43m,\u001b[49m\n\u001b[0;32m     33\u001b[0m \u001b[43m    \u001b[49m\u001b[43mcolumns_to_use\u001b[49m\u001b[38;5;241;43m=\u001b[39;49m\u001b[43mcolumns_to_use\u001b[49m\u001b[43m,\u001b[49m\n\u001b[0;32m     34\u001b[0m \u001b[43m    \u001b[49m\u001b[43mweights\u001b[49m\u001b[38;5;241;43m=\u001b[39;49m\u001b[43mweights\u001b[49m\u001b[43m)\u001b[49m\n\u001b[0;32m     36\u001b[0m (   avg_dict,\n\u001b[0;32m     37\u001b[0m     std_dict,\n\u001b[0;32m     38\u001b[0m     mse_dicts,\n\u001b[0;32m     39\u001b[0m     labels,\n\u001b[0;32m     40\u001b[0m     all_data_results,\n\u001b[0;32m     41\u001b[0m     baseline_results) \u001b[38;5;241m=\u001b[39m results\n\u001b[0;32m     44\u001b[0m save_dicts_to_csv(  dataset_name \u001b[38;5;241m=\u001b[39m dataset_name,\n\u001b[0;32m     45\u001b[0m                     avg_dict\u001b[38;5;241m=\u001b[39mavg_dict,\n\u001b[0;32m     46\u001b[0m                     std_dict\u001b[38;5;241m=\u001b[39mstd_dict,\n\u001b[1;32m   (...)\u001b[0m\n\u001b[0;32m     50\u001b[0m                     baseline_results\u001b[38;5;241m=\u001b[39mbaseline_results,\n\u001b[0;32m     51\u001b[0m                     sample_sizes\u001b[38;5;241m=\u001b[39msample_sizes)\n",
      "File \u001b[1;32mc:\\Users\\tzion\\Documents\\GitHub\\TDS-Project\\scripts\\sample_loop.py:89\u001b[0m, in \u001b[0;36msample_and_get_results\u001b[1;34m(dataset_name, train, test, sample_sizes, redundancy, columns_to_use, weights)\u001b[0m\n\u001b[0;32m     71\u001b[0m x_train_random, y_train_random \u001b[38;5;241m=\u001b[39m sample_data(x_train, y_train, sample_size)\n\u001b[0;32m     73\u001b[0m genetic_sampler_ws \u001b[38;5;241m=\u001b[39m GeneticAlgorithmSampler(\n\u001b[0;32m     74\u001b[0m     fitness_function\u001b[38;5;241m=\u001b[39m\u001b[38;5;124m'\u001b[39m\u001b[38;5;124mwasserstein_distance\u001b[39m\u001b[38;5;124m'\u001b[39m,\n\u001b[0;32m     75\u001b[0m     sample_size\u001b[38;5;241m=\u001b[39msample_size,\n\u001b[1;32m   (...)\u001b[0m\n\u001b[0;32m     87\u001b[0m     weights_for_features\u001b[38;5;241m=\u001b[39mweights\n\u001b[0;32m     88\u001b[0m )\n\u001b[1;32m---> 89\u001b[0m x_train_ws, y_train_ws, history \u001b[38;5;241m=\u001b[39m \u001b[43mgenetic_sampler_ws\u001b[49m\u001b[38;5;241;43m.\u001b[39;49m\u001b[43msample\u001b[49m\u001b[43m(\u001b[49m\u001b[43m)\u001b[49m\n\u001b[0;32m     91\u001b[0m genetic_sampler_ws_short \u001b[38;5;241m=\u001b[39m GeneticAlgorithmSampler(\n\u001b[0;32m     92\u001b[0m     fitness_function\u001b[38;5;241m=\u001b[39m\u001b[38;5;124m'\u001b[39m\u001b[38;5;124mwasserstein_distance\u001b[39m\u001b[38;5;124m'\u001b[39m,\n\u001b[0;32m     93\u001b[0m     sample_size\u001b[38;5;241m=\u001b[39msample_size,\n\u001b[1;32m   (...)\u001b[0m\n\u001b[0;32m    105\u001b[0m     weights_for_features\u001b[38;5;241m=\u001b[39mweights\n\u001b[0;32m    106\u001b[0m )\n\u001b[0;32m    107\u001b[0m x_train_ws_short, y_train_ws_short, history \u001b[38;5;241m=\u001b[39m genetic_sampler_ws_short\u001b[38;5;241m.\u001b[39msample()\n",
      "File \u001b[1;32mc:\\Users\\tzion\\Documents\\GitHub\\TDS-Project\\scripts\\genetic.py:242\u001b[0m, in \u001b[0;36mGeneticAlgorithmSampler.sample\u001b[1;34m(self)\u001b[0m\n\u001b[0;32m    241\u001b[0m \u001b[38;5;28;01mdef\u001b[39;00m \u001b[38;5;21msample\u001b[39m(\u001b[38;5;28mself\u001b[39m):\n\u001b[1;32m--> 242\u001b[0m     best_sample \u001b[38;5;241m=\u001b[39m \u001b[38;5;28;43mself\u001b[39;49m\u001b[38;5;241;43m.\u001b[39;49m\u001b[43mrun\u001b[49m\u001b[43m(\u001b[49m\u001b[43m)\u001b[49m\n\u001b[0;32m    243\u001b[0m     best_sample \u001b[38;5;241m=\u001b[39m best_sample\u001b[38;5;241m.\u001b[39mastype(\u001b[38;5;28mbool\u001b[39m)\n\u001b[0;32m    244\u001b[0m     best_sample \u001b[38;5;241m=\u001b[39m best_sample\u001b[38;5;241m.\u001b[39mflatten()\n",
      "File \u001b[1;32mc:\\Users\\tzion\\Documents\\GitHub\\TDS-Project\\scripts\\genetic.py:233\u001b[0m, in \u001b[0;36mGeneticAlgorithmSampler.run\u001b[1;34m(self)\u001b[0m\n\u001b[0;32m    230\u001b[0m \u001b[38;5;28;01mfor\u001b[39;00m generation \u001b[38;5;129;01min\u001b[39;00m \u001b[38;5;28mrange\u001b[39m(\u001b[38;5;28mself\u001b[39m\u001b[38;5;241m.\u001b[39mmax_generations\u001b[38;5;241m-\u001b[39m\u001b[38;5;241m1\u001b[39m):\n\u001b[0;32m    231\u001b[0m     \u001b[38;5;66;03m#self.print_generation_start(generation+2)\u001b[39;00m\n\u001b[0;32m    232\u001b[0m     \u001b[38;5;28mself\u001b[39m\u001b[38;5;241m.\u001b[39mrepopulate()\n\u001b[1;32m--> 233\u001b[0m     \u001b[38;5;28;43mself\u001b[39;49m\u001b[38;5;241;43m.\u001b[39;49m\u001b[43mcalc_fitnesses\u001b[49m\u001b[43m(\u001b[49m\u001b[43m)\u001b[49m\n\u001b[0;32m    234\u001b[0m     \u001b[38;5;28mself\u001b[39m\u001b[38;5;241m.\u001b[39mstore_best_fitness()\n\u001b[0;32m    235\u001b[0m     \u001b[38;5;28;01mif\u001b[39;00m \u001b[38;5;28mself\u001b[39m\u001b[38;5;241m.\u001b[39mverbose:\n",
      "File \u001b[1;32mc:\\Users\\tzion\\Documents\\GitHub\\TDS-Project\\scripts\\genetic.py:154\u001b[0m, in \u001b[0;36mGeneticAlgorithmSampler.calc_fitnesses\u001b[1;34m(self)\u001b[0m\n\u001b[0;32m    152\u001b[0m \u001b[38;5;28;01mif\u001b[39;00m \u001b[38;5;28mself\u001b[39m\u001b[38;5;241m.\u001b[39mfitness_function \u001b[38;5;241m==\u001b[39m \u001b[38;5;124m'\u001b[39m\u001b[38;5;124mwasserstein_distance\u001b[39m\u001b[38;5;124m'\u001b[39m:\n\u001b[0;32m    153\u001b[0m     \u001b[38;5;28;01mwith\u001b[39;00m concurrent\u001b[38;5;241m.\u001b[39mfutures\u001b[38;5;241m.\u001b[39mProcessPoolExecutor() \u001b[38;5;28;01mas\u001b[39;00m executor:\n\u001b[1;32m--> 154\u001b[0m         \u001b[38;5;28mself\u001b[39m\u001b[38;5;241m.\u001b[39mfitnesses \u001b[38;5;241m=\u001b[39m \u001b[38;5;28mlist\u001b[39m(executor\u001b[38;5;241m.\u001b[39mmap(calculate_fitness, \u001b[38;5;28mself\u001b[39m\u001b[38;5;241m.\u001b[39mpopulation, [\u001b[38;5;28mself\u001b[39m\u001b[38;5;241m.\u001b[39mdf_for_ga]\u001b[38;5;241m*\u001b[39m\u001b[38;5;28mlen\u001b[39m(\u001b[38;5;28mself\u001b[39m\u001b[38;5;241m.\u001b[39mpopulation), [fitness_wasserstein_distance]\u001b[38;5;241m*\u001b[39m\u001b[38;5;28mlen\u001b[39m(\u001b[38;5;28mself\u001b[39m\u001b[38;5;241m.\u001b[39mpopulation), [\u001b[38;5;28mself\u001b[39m\u001b[38;5;241m.\u001b[39mpdfs]\u001b[38;5;241m*\u001b[39m\u001b[38;5;28mlen\u001b[39m(\u001b[38;5;28mself\u001b[39m\u001b[38;5;241m.\u001b[39mpopulation), [\u001b[38;5;28mself\u001b[39m\u001b[38;5;241m.\u001b[39mis_consant]\u001b[38;5;241m*\u001b[39m\u001b[38;5;28mlen\u001b[39m(\u001b[38;5;28mself\u001b[39m\u001b[38;5;241m.\u001b[39mpopulation), [\u001b[38;5;28mself\u001b[39m\u001b[38;5;241m.\u001b[39mmins]\u001b[38;5;241m*\u001b[39m\u001b[38;5;28mlen\u001b[39m(\u001b[38;5;28mself\u001b[39m\u001b[38;5;241m.\u001b[39mpopulation), [\u001b[38;5;28mself\u001b[39m\u001b[38;5;241m.\u001b[39mmaxes]\u001b[38;5;241m*\u001b[39m\u001b[38;5;28mlen\u001b[39m(\u001b[38;5;28mself\u001b[39m\u001b[38;5;241m.\u001b[39mpopulation), [\u001b[38;5;28mself\u001b[39m\u001b[38;5;241m.\u001b[39mkde_bandwidth]\u001b[38;5;241m*\u001b[39m\u001b[38;5;28mlen\u001b[39m(\u001b[38;5;28mself\u001b[39m\u001b[38;5;241m.\u001b[39mpopulation), [\u001b[38;5;28mself\u001b[39m\u001b[38;5;241m.\u001b[39mweights_for_features]\u001b[38;5;241m*\u001b[39m\u001b[38;5;28mlen\u001b[39m(\u001b[38;5;28mself\u001b[39m\u001b[38;5;241m.\u001b[39mpopulation)))\n\u001b[0;32m    155\u001b[0m \u001b[38;5;28;01melif\u001b[39;00m \u001b[38;5;28mself\u001b[39m\u001b[38;5;241m.\u001b[39mfitness_function \u001b[38;5;241m==\u001b[39m \u001b[38;5;124m'\u001b[39m\u001b[38;5;124mkl_divergence\u001b[39m\u001b[38;5;124m'\u001b[39m:\n\u001b[0;32m    156\u001b[0m     \u001b[38;5;28;01mwith\u001b[39;00m concurrent\u001b[38;5;241m.\u001b[39mfutures\u001b[38;5;241m.\u001b[39mProcessPoolExecutor() \u001b[38;5;28;01mas\u001b[39;00m executor:\n",
      "File \u001b[1;32mc:\\Users\\tzion\\AppData\\Local\\Programs\\Python\\Python311\\Lib\\concurrent\\futures\\process.py:602\u001b[0m, in \u001b[0;36m_chain_from_iterable_of_lists\u001b[1;34m(iterable)\u001b[0m\n\u001b[0;32m    596\u001b[0m \u001b[38;5;28;01mdef\u001b[39;00m \u001b[38;5;21m_chain_from_iterable_of_lists\u001b[39m(iterable):\n\u001b[0;32m    597\u001b[0m \u001b[38;5;250m    \u001b[39m\u001b[38;5;124;03m\"\"\"\u001b[39;00m\n\u001b[0;32m    598\u001b[0m \u001b[38;5;124;03m    Specialized implementation of itertools.chain.from_iterable.\u001b[39;00m\n\u001b[0;32m    599\u001b[0m \u001b[38;5;124;03m    Each item in *iterable* should be a list.  This function is\u001b[39;00m\n\u001b[0;32m    600\u001b[0m \u001b[38;5;124;03m    careful not to keep references to yielded objects.\u001b[39;00m\n\u001b[0;32m    601\u001b[0m \u001b[38;5;124;03m    \"\"\"\u001b[39;00m\n\u001b[1;32m--> 602\u001b[0m \u001b[43m    \u001b[49m\u001b[38;5;28;43;01mfor\u001b[39;49;00m\u001b[43m \u001b[49m\u001b[43melement\u001b[49m\u001b[43m \u001b[49m\u001b[38;5;129;43;01min\u001b[39;49;00m\u001b[43m \u001b[49m\u001b[43miterable\u001b[49m\u001b[43m:\u001b[49m\n\u001b[0;32m    603\u001b[0m \u001b[43m        \u001b[49m\u001b[43melement\u001b[49m\u001b[38;5;241;43m.\u001b[39;49m\u001b[43mreverse\u001b[49m\u001b[43m(\u001b[49m\u001b[43m)\u001b[49m\n\u001b[0;32m    604\u001b[0m \u001b[43m        \u001b[49m\u001b[38;5;28;43;01mwhile\u001b[39;49;00m\u001b[43m \u001b[49m\u001b[43melement\u001b[49m\u001b[43m:\u001b[49m\n",
      "File \u001b[1;32mc:\\Users\\tzion\\AppData\\Local\\Programs\\Python\\Python311\\Lib\\concurrent\\futures\\_base.py:619\u001b[0m, in \u001b[0;36mExecutor.map.<locals>.result_iterator\u001b[1;34m()\u001b[0m\n\u001b[0;32m    616\u001b[0m \u001b[38;5;28;01mwhile\u001b[39;00m fs:\n\u001b[0;32m    617\u001b[0m     \u001b[38;5;66;03m# Careful not to keep a reference to the popped future\u001b[39;00m\n\u001b[0;32m    618\u001b[0m     \u001b[38;5;28;01mif\u001b[39;00m timeout \u001b[38;5;129;01mis\u001b[39;00m \u001b[38;5;28;01mNone\u001b[39;00m:\n\u001b[1;32m--> 619\u001b[0m         \u001b[38;5;28;01myield\u001b[39;00m \u001b[43m_result_or_cancel\u001b[49m\u001b[43m(\u001b[49m\u001b[43mfs\u001b[49m\u001b[38;5;241;43m.\u001b[39;49m\u001b[43mpop\u001b[49m\u001b[43m(\u001b[49m\u001b[43m)\u001b[49m\u001b[43m)\u001b[49m\n\u001b[0;32m    620\u001b[0m     \u001b[38;5;28;01melse\u001b[39;00m:\n\u001b[0;32m    621\u001b[0m         \u001b[38;5;28;01myield\u001b[39;00m _result_or_cancel(fs\u001b[38;5;241m.\u001b[39mpop(), end_time \u001b[38;5;241m-\u001b[39m time\u001b[38;5;241m.\u001b[39mmonotonic())\n",
      "File \u001b[1;32mc:\\Users\\tzion\\AppData\\Local\\Programs\\Python\\Python311\\Lib\\concurrent\\futures\\_base.py:317\u001b[0m, in \u001b[0;36m_result_or_cancel\u001b[1;34m(***failed resolving arguments***)\u001b[0m\n\u001b[0;32m    315\u001b[0m \u001b[38;5;28;01mtry\u001b[39;00m:\n\u001b[0;32m    316\u001b[0m     \u001b[38;5;28;01mtry\u001b[39;00m:\n\u001b[1;32m--> 317\u001b[0m         \u001b[38;5;28;01mreturn\u001b[39;00m \u001b[43mfut\u001b[49m\u001b[38;5;241;43m.\u001b[39;49m\u001b[43mresult\u001b[49m\u001b[43m(\u001b[49m\u001b[43mtimeout\u001b[49m\u001b[43m)\u001b[49m\n\u001b[0;32m    318\u001b[0m     \u001b[38;5;28;01mfinally\u001b[39;00m:\n\u001b[0;32m    319\u001b[0m         fut\u001b[38;5;241m.\u001b[39mcancel()\n",
      "File \u001b[1;32mc:\\Users\\tzion\\AppData\\Local\\Programs\\Python\\Python311\\Lib\\concurrent\\futures\\_base.py:451\u001b[0m, in \u001b[0;36mFuture.result\u001b[1;34m(self, timeout)\u001b[0m\n\u001b[0;32m    448\u001b[0m \u001b[38;5;28;01melif\u001b[39;00m \u001b[38;5;28mself\u001b[39m\u001b[38;5;241m.\u001b[39m_state \u001b[38;5;241m==\u001b[39m FINISHED:\n\u001b[0;32m    449\u001b[0m     \u001b[38;5;28;01mreturn\u001b[39;00m \u001b[38;5;28mself\u001b[39m\u001b[38;5;241m.\u001b[39m__get_result()\n\u001b[1;32m--> 451\u001b[0m \u001b[38;5;28;43mself\u001b[39;49m\u001b[38;5;241;43m.\u001b[39;49m\u001b[43m_condition\u001b[49m\u001b[38;5;241;43m.\u001b[39;49m\u001b[43mwait\u001b[49m\u001b[43m(\u001b[49m\u001b[43mtimeout\u001b[49m\u001b[43m)\u001b[49m\n\u001b[0;32m    453\u001b[0m \u001b[38;5;28;01mif\u001b[39;00m \u001b[38;5;28mself\u001b[39m\u001b[38;5;241m.\u001b[39m_state \u001b[38;5;129;01min\u001b[39;00m [CANCELLED, CANCELLED_AND_NOTIFIED]:\n\u001b[0;32m    454\u001b[0m     \u001b[38;5;28;01mraise\u001b[39;00m CancelledError()\n",
      "File \u001b[1;32mc:\\Users\\tzion\\AppData\\Local\\Programs\\Python\\Python311\\Lib\\threading.py:320\u001b[0m, in \u001b[0;36mCondition.wait\u001b[1;34m(self, timeout)\u001b[0m\n\u001b[0;32m    318\u001b[0m \u001b[38;5;28;01mtry\u001b[39;00m:    \u001b[38;5;66;03m# restore state no matter what (e.g., KeyboardInterrupt)\u001b[39;00m\n\u001b[0;32m    319\u001b[0m     \u001b[38;5;28;01mif\u001b[39;00m timeout \u001b[38;5;129;01mis\u001b[39;00m \u001b[38;5;28;01mNone\u001b[39;00m:\n\u001b[1;32m--> 320\u001b[0m         \u001b[43mwaiter\u001b[49m\u001b[38;5;241;43m.\u001b[39;49m\u001b[43macquire\u001b[49m\u001b[43m(\u001b[49m\u001b[43m)\u001b[49m\n\u001b[0;32m    321\u001b[0m         gotit \u001b[38;5;241m=\u001b[39m \u001b[38;5;28;01mTrue\u001b[39;00m\n\u001b[0;32m    322\u001b[0m     \u001b[38;5;28;01melse\u001b[39;00m:\n",
      "\u001b[1;31mKeyboardInterrupt\u001b[0m: "
     ]
    }
   ],
   "source": [
    "# USAGE\n",
    "# dataset_name = 'Abalone' - name of the dataset\n",
    "# sample_sizes = list of sample sizes to use, can use get_sample_sizes_for_dataset(dataset_name) to get the default sample sizes\n",
    "# redundancy = 20 - number of times to repeat the simulation\n",
    "# columns_to_use = ['Length', 'Diameter', 'Rings'] - list of columns to use including the target column if needed, use None to use all columns except the target column\n",
    "# weights = [1,2,5] - list of weights to use for the columns, should be the same length as columns_to_use, use None to use equal weights\n",
    "\n",
    "dataset_name = 'Abalone'\n",
    "sample_sizes = get_sample_sizes_for_dataset(dataset_name)\n",
    "redundancy = 20\n",
    "columns_to_use = ['Length', 'Diameter', 'Rings']\n",
    "columns_to_use = 'FEATURES_AND_LABEL'\n",
    "#weights = [1,2,5]\n",
    "weights = None\n",
    "\n",
    "\n",
    "do_full_simulation(dataset_name, sample_sizes=sample_sizes, redundancy=redundancy, columns_to_use=columns_to_use, weights=weights)"
   ]
  },
  {
   "cell_type": "code",
   "execution_count": null,
   "metadata": {},
   "outputs": [],
   "source": [
    "# REDUNDANCY = 10\n",
    "# datasets = get_all_dataset_names()\n",
    "# for dataset_name in datasets:\n",
    "#     sample_sizes = get_sample_sizes_for_dataset(dataset_name)\n",
    "#     do_full_simulation(dataset_name, sample_sizes=sample_sizes, redundancy=REDUNDANCY)"
   ]
  }
 ],
 "metadata": {
  "kernelspec": {
   "display_name": "Python 3",
   "language": "python",
   "name": "python3"
  },
  "language_info": {
   "codemirror_mode": {
    "name": "ipython",
    "version": 3
   },
   "file_extension": ".py",
   "mimetype": "text/x-python",
   "name": "python",
   "nbconvert_exporter": "python",
   "pygments_lexer": "ipython3",
   "version": "3.11.4"
  }
 },
 "nbformat": 4,
 "nbformat_minor": 2
}
