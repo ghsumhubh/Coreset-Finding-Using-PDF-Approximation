{
 "cells": [
  {
   "cell_type": "code",
   "execution_count": 68,
   "metadata": {},
   "outputs": [],
   "source": [
    "import numpy as np\n",
    "import matplotlib.pyplot as plt\n",
    "import numpy as np\n",
    "from sklearn.neighbors import KernelDensity\n",
    "import time      \n",
    "import pandas as pd"
   ]
  },
  {
   "cell_type": "code",
   "execution_count": 69,
   "metadata": {},
   "outputs": [],
   "source": [
    "\n",
    "def plot_kde(values, feature_name, sampler):\n",
    "        kde = KernelDensity(bandwidth='silverman', kernel='gaussian')\n",
    "        # plot it\n",
    "        kde.fit(values[:, None])\n",
    "        min = np.min(values)\n",
    "        max = np.max(values)\n",
    "        x = np.linspace(min, max, 100000)\n",
    "        logprob = kde.score_samples(x[:, None])\n",
    "        plt.fill_between(x, np.exp(logprob), alpha=0.5)\n",
    "        plt.title(f'{feature_name} KDE, sampler: {sampler}')\n",
    "        plt.show()\n",
    "\n",
    "\n",
    "\n",
    "def plot_comparative_kde(values_original, values_sampled, feature_name, sampler):\n",
    "    # the same but compare to kde of values_original\n",
    "    kde = KernelDensity(bandwidth='silverman', kernel='gaussian')\n",
    "    # plot it\n",
    "    kde.fit(values_original[:, None])\n",
    "    min_original = np.min(values_original)\n",
    "    max_original = np.max(values_original)\n",
    "    min_sampled = np.min(values_sampled)\n",
    "    max_sampled = np.max(values_sampled)\n",
    "    min = np.min([min_original, min_sampled])\n",
    "    max = np.max([max_original, max_sampled])\n",
    "                                                \n",
    "    x = np.linspace(min, max, 100000)\n",
    "    logprob = kde.score_samples(x[:, None])\n",
    "    plt.fill_between(x, np.exp(logprob), alpha=0.5, label='original')\n",
    "    kde.fit(values_sampled[:, None])\n",
    "\n",
    "    x = np.linspace(min, max, 100000)\n",
    "    logprob = kde.score_samples(x[:, None])\n",
    "    plt.fill_between(x, np.exp(logprob), alpha=0.5, label='sampled')\n",
    "    plt.title(f'{feature_name} KDE, sampler: {sampler}')\n",
    "    plt.legend()\n",
    "    plt.show()"
   ]
  },
  {
   "cell_type": "code",
   "execution_count": 70,
   "metadata": {},
   "outputs": [],
   "source": [
    "def plot_kde_per_feature_sampled(paths, feature_names, sampler_names):\n",
    "    dfs = [pd.read_csv(path, header=None) for path in paths]\n",
    "\n",
    "    for i in range(dfs[0].shape[1]):\n",
    "        for j in range(len(dfs)):\n",
    "            df = dfs[j]\n",
    "            plot_kde(df.iloc[:, i].values, feature_names[i], sampler_names[j])\n",
    "\n",
    "\n",
    "def plot_comparative_kde_per_feature_sampled(original_path, paths, feature_names, sampler_names):\n",
    "    original = pd.read_csv(original_path)\n",
    "    dfs = [pd.read_csv(path, header=None) for path in paths]\n",
    "\n",
    "    for i in range(original.shape[1]):\n",
    "        for j in range(len(dfs)):\n",
    "            df = dfs[j]\n",
    "            plot_comparative_kde(original.iloc[:, i].values, df.iloc[:, i].values, feature_names[i], sampler_names[j])"
   ]
  },
  {
   "cell_type": "code",
   "execution_count": 71,
   "metadata": {},
   "outputs": [],
   "source": [
    "def get_feature_names(path):\n",
    "    df = pd.read_csv(path)\n",
    "    return df.columns"
   ]
  },
  {
   "cell_type": "code",
   "execution_count": 72,
   "metadata": {},
   "outputs": [],
   "source": [
    "DATASET_USED = 'Abalone'\n",
    "SAMPLERS = ['random', 'kl']\n",
    "SAMPLE_SIZE = 500"
   ]
  },
  {
   "cell_type": "code",
   "execution_count": 73,
   "metadata": {},
   "outputs": [],
   "source": [
    "PATHS = [f'data/sampled_datasets/{DATASET_USED}/{sampler}/{SAMPLE_SIZE}/sample_0.csv' for sampler in SAMPLERS]\n",
    "PATH_ORIGINAL = f'data/split_datasets/{DATASET_USED}/train.csv'\n",
    "\n",
    "feature_names = get_feature_names(PATH_ORIGINAL)\n",
    "print(feature_names)\n",
    "#plot_kde_per_feature_sampled(PATHS, feature_names, SAMPLERS)\n",
    "\n",
    "plot_comparative_kde_per_feature_sampled(PATH_ORIGINAL, PATHS, feature_names, SAMPLERS)"
   ]
  }
 ],
 "metadata": {
  "kernelspec": {
   "display_name": "Python 3",
   "language": "python",
   "name": "python3"
  },
  "language_info": {
   "codemirror_mode": {
    "name": "ipython",
    "version": 3
   },
   "file_extension": ".py",
   "mimetype": "text/x-python",
   "name": "python",
   "nbconvert_exporter": "python",
   "pygments_lexer": "ipython3",
   "version": "3.11.4"
  }
 },
 "nbformat": 4,
 "nbformat_minor": 2
}
