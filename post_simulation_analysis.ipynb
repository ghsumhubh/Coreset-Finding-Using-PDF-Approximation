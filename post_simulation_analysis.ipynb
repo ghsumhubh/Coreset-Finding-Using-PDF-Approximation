{
 "cells": [
  {
   "cell_type": "markdown",
   "metadata": {},
   "source": [
    "# Setup"
   ]
  },
  {
   "cell_type": "code",
   "execution_count": 1,
   "metadata": {},
   "outputs": [],
   "source": [
    "import numpy as np\n",
    "import matplotlib.pyplot as plt\n",
    "import numpy as np\n",
    "from sklearn.neighbors import KernelDensity\n",
    "import time      \n",
    "import pandas as pd\n",
    "import os\n",
    "\n",
    "from scripts.kde_plots import *"
   ]
  },
  {
   "cell_type": "code",
   "execution_count": 2,
   "metadata": {},
   "outputs": [],
   "source": [
    "def get_feature_names(path):\n",
    "    df = pd.read_csv(path)\n",
    "    return df.columns"
   ]
  },
  {
   "cell_type": "markdown",
   "metadata": {},
   "source": [
    "# KDE Comparisons"
   ]
  },
  {
   "cell_type": "markdown",
   "metadata": {},
   "source": [
    "## Constants"
   ]
  },
  {
   "cell_type": "code",
   "execution_count": 3,
   "metadata": {},
   "outputs": [],
   "source": [
    "METHOD = 'method 1'\n",
    "DATASET_USED = 'Abalone'\n",
    "SAMPLERS = ['random', 'kl']\n",
    "SAMPLE_SIZE = 50\n",
    "SAMPLE_ID = 1 #TODO: make it random or set specific ones for testing\n",
    "\n",
    "PATHS = [f'data/sampled_datasets/{DATASET_USED}/{sampler}/{SAMPLE_SIZE}' for sampler in SAMPLERS]\n",
    "NTH_SAMPLE_PATHS = [f'data/{METHOD}/sampled_datasets/{DATASET_USED}/{sampler}/{SAMPLE_SIZE}/sample_{SAMPLE_ID}.csv' for sampler in SAMPLERS]\n",
    "PATH_ORIGINAL = f'data/split_datasets/{DATASET_USED}/train.csv'\n",
    "feature_names = get_feature_names(PATH_ORIGINAL)\n"
   ]
  },
  {
   "cell_type": "markdown",
   "metadata": {},
   "source": [
    "## Plot Serperate KDE per feature"
   ]
  },
  {
   "cell_type": "code",
   "execution_count": 4,
   "metadata": {},
   "outputs": [],
   "source": [
    "#plot_kde_per_feature_sampled(NTH_SAMPLE_PATHS, feature_names, SAMPLERS)"
   ]
  },
  {
   "cell_type": "markdown",
   "metadata": {},
   "source": [
    "## Plot Compartive KDE"
   ]
  },
  {
   "cell_type": "code",
   "execution_count": 5,
   "metadata": {},
   "outputs": [],
   "source": [
    "#plot_comparative_kde_per_feature_sampled(PATH_ORIGINAL, NTH_SAMPLE_PATHS, feature_names, SAMPLERS)\n"
   ]
  },
  {
   "cell_type": "markdown",
   "metadata": {},
   "source": [
    "## Plot Head To Head KDE"
   ]
  },
  {
   "cell_type": "code",
   "execution_count": 6,
   "metadata": {},
   "outputs": [],
   "source": [
    "#plot_head_to_head_kde_per_feature_sampled(PATH_ORIGINAL, NTH_SAMPLE_PATHS[0], NTH_SAMPLE_PATHS[1], feature_names, SAMPLERS[0], SAMPLERS[1])"
   ]
  },
  {
   "cell_type": "markdown",
   "metadata": {},
   "source": [
    "## Plot Head To Head KDE Concacted"
   ]
  },
  {
   "cell_type": "code",
   "execution_count": 7,
   "metadata": {},
   "outputs": [],
   "source": [
    "#feature_names = ['Caffeine consumption']\n",
    "\n",
    "#plot_head_to_head_kde_per_feature_sampled_concacted(PATH_ORIGINAL, PATHS[0], PATHS[1], feature_names, SAMPLERS[0], SAMPLERS[1],n_files = 200, bandwitdh=0.5)"
   ]
  },
  {
   "cell_type": "markdown",
   "metadata": {},
   "source": [
    "# Fixed bandwidth"
   ]
  },
  {
   "cell_type": "code",
   "execution_count": 8,
   "metadata": {},
   "outputs": [],
   "source": [
    "METHOD = '' # method 1/2/3 etc or use empty string for current method\n",
    "DATASET_USED = 'Abalone'\n",
    "SAMPLERS = ['random', 'kl']\n",
    "SAMPLE_SIZE = 50\n",
    "SAMPLE_ID = 1 #TODO: make it random or set specific ones for testing\n",
    "\n",
    "PATHS = [f'data/sampled_datasets/{DATASET_USED}/{sampler}/{SAMPLE_SIZE}' for sampler in SAMPLERS]\n",
    "NTH_SAMPLE_PATHS = [f'data/{METHOD}/sampled_datasets/{DATASET_USED}/{sampler}/{SAMPLE_SIZE}/sample_{SAMPLE_ID}.csv' for sampler in SAMPLERS]\n",
    "PATH_ORIGINAL = f'data/split_datasets/{DATASET_USED}/train.csv'"
   ]
  },
  {
   "cell_type": "code",
   "execution_count": 9,
   "metadata": {},
   "outputs": [],
   "source": [
    "feature_names = get_feature_names(PATH_ORIGINAL)\n",
    "#plot_kde_per_feature_sampled(NTH_SAMPLE_PATHS, feature_names, SAMPLERS)\n",
    "\n",
    "#plot_comparative_kde_per_feature_sampled(PATH_ORIGINAL, NTH_SAMPLE_PATHS, feature_names, SAMPLERS, fixed=True)\n",
    "\n",
    "#plot_head_to_head_kde_per_feature_sampled(PATH_ORIGINAL, NTH_SAMPLE_PATHS[0], NTH_SAMPLE_PATHS[1], feature_names, SAMPLERS[0], SAMPLERS[1], fixed=True)\n",
    "\n",
    "#feature_names = ['Caffeine consumption']\n",
    "\n",
    "# print number of concated files\n",
    "\n",
    "plot_head_to_head_kde_per_feature_sampled_concacted(PATH_ORIGINAL, PATHS[0], PATHS[1], feature_names, SAMPLERS[0], SAMPLERS[1],n_files = None, fixed=True)"
   ]
  }
 ],
 "metadata": {
  "kernelspec": {
   "display_name": "Python 3",
   "language": "python",
   "name": "python3"
  },
  "language_info": {
   "codemirror_mode": {
    "name": "ipython",
    "version": 3
   },
   "file_extension": ".py",
   "mimetype": "text/x-python",
   "name": "python",
   "nbconvert_exporter": "python",
   "pygments_lexer": "ipython3",
   "version": "3.11.4"
  }
 },
 "nbformat": 4,
 "nbformat_minor": 2
}
