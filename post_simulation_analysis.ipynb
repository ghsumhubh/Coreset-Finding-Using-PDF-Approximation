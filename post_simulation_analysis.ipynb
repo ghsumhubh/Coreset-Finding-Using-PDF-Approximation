{
 "cells": [
  {
   "cell_type": "code",
   "execution_count": 74,
   "metadata": {},
   "outputs": [],
   "source": [
    "import numpy as np\n",
    "import matplotlib.pyplot as plt\n",
    "import numpy as np\n",
    "from sklearn.neighbors import KernelDensity\n",
    "import time      \n",
    "import pandas as pd"
   ]
  },
  {
   "cell_type": "code",
   "execution_count": 75,
   "metadata": {},
   "outputs": [],
   "source": [
    "\n",
    "def plot_kde(values, feature_name, sampler):\n",
    "        kde = KernelDensity(bandwidth='silverman', kernel='gaussian')\n",
    "        # plot it\n",
    "        kde.fit(values[:, None])\n",
    "        min = np.min(values)\n",
    "        max = np.max(values)\n",
    "        x = np.linspace(min, max, 100000)\n",
    "        logprob = kde.score_samples(x[:, None])\n",
    "        plt.fill_between(x, np.exp(logprob), alpha=0.5)\n",
    "        plt.title(f'{feature_name} KDE, sampler: {sampler}')\n",
    "        plt.show()\n",
    "\n",
    "\n",
    "\n",
    "def plot_comparative_kde(values_original, values_sampled, feature_name, sampler):\n",
    "    # the same but compare to kde of values_original\n",
    "    kde = KernelDensity(bandwidth='silverman', kernel='gaussian')\n",
    "    # plot it\n",
    "    kde.fit(values_original[:, None])\n",
    "    min = np.min(values_original)\n",
    "    max = np.max(values_original)\n",
    "                                                \n",
    "    x = np.linspace(min, max, 100000)\n",
    "    logprob = kde.score_samples(x[:, None])\n",
    "    plt.fill_between(x, np.exp(logprob), alpha=0.5, label='original')\n",
    "    kde.fit(values_sampled[:, None])\n",
    "\n",
    "    x = np.linspace(min, max, 100000)\n",
    "    logprob = kde.score_samples(x[:, None])\n",
    "    plt.fill_between(x, np.exp(logprob), alpha=0.5, label='sampled')\n",
    "    plt.title(f'{feature_name} KDE, sampler: {sampler}')\n",
    "    plt.legend()\n",
    "    plt.show()\n",
    "\n",
    "def plot_head_to_head_kde(values_original, values_sampler_1, values_sampler_2, feature_name, sampler_1_name, sampler_2_name):\n",
    "        # the same but compare to kde of values_original\n",
    "        kde = KernelDensity(bandwidth='silverman', kernel='gaussian')\n",
    "        # plot it\n",
    "        kde.fit(values_original[:, None])\n",
    "        min = np.min(values_original)\n",
    "        max = np.max(values_original)\n",
    "                                                        \n",
    "        x = np.linspace(min, max, 100000)\n",
    "        logprob = kde.score_samples(x[:, None])\n",
    "        plt.fill_between(x, np.exp(logprob), alpha=0.5, label='original')\n",
    "        kde.fit(values_sampler_1[:, None])\n",
    "        \n",
    "        x = np.linspace(min, max, 100000)\n",
    "        logprob = kde.score_samples(x[:, None])\n",
    "        plt.fill_between(x, np.exp(logprob), alpha=0.5, label=sampler_1_name)\n",
    "        kde.fit(values_sampler_2[:, None])\n",
    "        \n",
    "        x = np.linspace(min, max, 100000)\n",
    "        logprob = kde.score_samples(x[:, None])\n",
    "        plt.fill_between(x, np.exp(logprob), alpha=0.5, label=sampler_2_name)\n",
    "        plt.title(f'{feature_name} KDE')\n",
    "        plt.legend()\n",
    "        plt.show()"
   ]
  },
  {
   "cell_type": "code",
   "execution_count": 76,
   "metadata": {},
   "outputs": [],
   "source": [
    "def plot_kde_per_feature_sampled(paths, feature_names, sampler_names):\n",
    "    dfs = [pd.read_csv(path, header=None) for path in paths]\n",
    "\n",
    "    for i in range(dfs[0].shape[1]):\n",
    "        for j in range(len(dfs)):\n",
    "            df = dfs[j]\n",
    "            plot_kde(df.iloc[:, i].values, feature_names[i], sampler_names[j])\n",
    "\n",
    "\n",
    "def plot_comparative_kde_per_feature_sampled(original_path, paths, feature_names, sampler_names):\n",
    "    original = pd.read_csv(original_path)\n",
    "    dfs = [pd.read_csv(path, header=None) for path in paths]\n",
    "\n",
    "    for i in range(original.shape[1]):\n",
    "        for j in range(len(dfs)):\n",
    "            df = dfs[j]\n",
    "            plot_comparative_kde(original.iloc[:, i].values, df.iloc[:, i].values, feature_names[i], sampler_names[j])\n",
    "\n",
    "\n",
    "def plot_head_to_head_kde_per_feature_sampled(original_path, path_1, path_2, feature_names, sampler_1_name, sampler_2_name):\n",
    "    original = pd.read_csv(original_path)\n",
    "    df_1 = pd.read_csv(path_1, header=None)\n",
    "    df_2 = pd.read_csv(path_2, header=None)\n",
    "\n",
    "    for i in range(original.shape[1]):\n",
    "        plot_head_to_head_kde(original.iloc[:, i].values, df_1.iloc[:, i].values, df_2.iloc[:, i].values, feature_names[i], sampler_1_name, sampler_2_name)"
   ]
  },
  {
   "cell_type": "code",
   "execution_count": 77,
   "metadata": {},
   "outputs": [],
   "source": [
    "def get_feature_names(path):\n",
    "    df = pd.read_csv(path)\n",
    "    return df.columns"
   ]
  },
  {
   "cell_type": "code",
   "execution_count": 78,
   "metadata": {},
   "outputs": [],
   "source": [
    "DATASET_USED = 'Abalone'\n",
    "SAMPLERS = ['random', 'kl']\n",
    "SAMPLE_SIZE = 500"
   ]
  },
  {
   "cell_type": "code",
   "execution_count": 79,
   "metadata": {},
   "outputs": [],
   "source": [
    "PATHS = [f'data/sampled_datasets/{DATASET_USED}/{sampler}/{SAMPLE_SIZE}/sample_0.csv' for sampler in SAMPLERS]\n",
    "PATH_ORIGINAL = f'data/split_datasets/{DATASET_USED}/train.csv'\n",
    "\n",
    "feature_names = get_feature_names(PATH_ORIGINAL)\n",
    "print(feature_names)\n",
    "#plot_kde_per_feature_sampled(PATHS, feature_names, SAMPLERS)\n",
    "\n",
    "#plot_comparative_kde_per_feature_sampled(PATH_ORIGINAL, PATHS, feature_names, SAMPLERS)\n",
    "\n",
    "plot_head_to_head_kde_per_feature_sampled(PATH_ORIGINAL, PATHS[0], PATHS[1], feature_names, SAMPLERS[0], SAMPLERS[1])"
   ]
  }
 ],
 "metadata": {
  "kernelspec": {
   "display_name": "Python 3",
   "language": "python",
   "name": "python3"
  },
  "language_info": {
   "codemirror_mode": {
    "name": "ipython",
    "version": 3
   },
   "file_extension": ".py",
   "mimetype": "text/x-python",
   "name": "python",
   "nbconvert_exporter": "python",
   "pygments_lexer": "ipython3",
   "version": "3.11.4"
  }
 },
 "nbformat": 4,
 "nbformat_minor": 2
}
